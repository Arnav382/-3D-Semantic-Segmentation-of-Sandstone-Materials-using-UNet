{
  "cells": [
    {
      "cell_type": "code",
      "execution_count": null,
      "metadata": {
        "id": "UKb-47x2DiYQ"
      },
      "outputs": [],
      "source": [
        "!pip install classification-models-3D\n",
        "!pip install efficientnet-3D\n",
        "!pip install segmentation-models-3D\n",
        "!pip install patchify"
      ]
    },
    {
      "cell_type": "code",
      "execution_count": null,
      "metadata": {
        "colab": {
          "base_uri": "https://localhost:8080/"
        },
        "id": "BPRMCIz7Dnkh",
        "outputId": "90dab7c2-1989-4969-d769-7c5457e622dc"
      },
      "outputs": [
        {
          "output_type": "stream",
          "name": "stdout",
          "text": [
            "2.8.0\n",
            "2.8.0\n"
          ]
        }
      ],
      "source": [
        "import tensorflow as tf\n",
        "from tensorflow import keras\n",
        "print(tf.__version__)\n",
        "print(keras.__version__)"
      ]
    },
    {
      "cell_type": "code",
      "execution_count": null,
      "metadata": {
        "colab": {
          "base_uri": "https://localhost:8080/"
        },
        "id": "OBtHtie7D_D8",
        "outputId": "70b38045-1619-4251-cb28-4a8e71d87dcf"
      },
      "outputs": [
        {
          "output_type": "stream",
          "name": "stdout",
          "text": [
            "Found GPU at: /device:GPU:0\n"
          ]
        }
      ],
      "source": [
        "#Make sure the GPU is available.\n",
        "import tensorflow as tf\n",
        "device_name = tf.test.gpu_device_name()\n",
        "if device_name != '/device:GPU:0':\n",
        "  raise SystemError('GPU device not found')\n",
        "print('Found GPU at: {}'.format(device_name))"
      ]
    },
    {
      "cell_type": "code",
      "execution_count": null,
      "metadata": {
        "colab": {
          "base_uri": "https://localhost:8080/"
        },
        "id": "L0FMRYPLEEhg",
        "outputId": "8666d3ed-f4ee-4389-d0d0-8750cd57046c"
      },
      "outputs": [
        {
          "output_type": "stream",
          "name": "stdout",
          "text": [
            "Segmentation Models: using `tf.keras` framework.\n"
          ]
        }
      ],
      "source": [
        "import segmentation_models_3D as sm"
      ]
    },
    {
      "cell_type": "code",
      "execution_count": null,
      "metadata": {
        "id": "ceH8h4fTEP95"
      },
      "outputs": [],
      "source": [
        "from skimage import io\n",
        "from patchify import patchify, unpatchify\n",
        "import numpy as np\n",
        "from matplotlib import pyplot as plt\n",
        "from keras import backend as K\n",
        "from tensorflow.keras.utils import to_categorical\n",
        "from sklearn.model_selection import train_test_split"
      ]
    },
    {
      "cell_type": "code",
      "execution_count": null,
      "metadata": {
        "id": "DxhJwU1vESXx"
      },
      "outputs": [],
      "source": [
        "#Load input images and masks.\n",
        "#Here we load 256x256x256 pixel volume. We will break it into patches of 64x64x64 for training.\n",
        "image = io.imread('/content/drive/MyDrive/sandstone_data_for_ML/data_for_3D_Unet/train_images_256_256_256.tif')\n",
        "img_patches = patchify(image, (64, 64, 64), step=64)  #Step=64 for 64 patches means no overlap\n",
        "\n",
        "mask = io.imread('/content/drive/MyDrive/sandstone_data_for_ML/data_for_3D_Unet/train_masks_256_256_256.tif')\n",
        "mask_patches = patchify(mask, (64, 64, 64), step=64)"
      ]
    },
    {
      "cell_type": "code",
      "execution_count": null,
      "metadata": {
        "colab": {
          "base_uri": "https://localhost:8080/",
          "height": 285
        },
        "id": "4E3dw9rPX-T_",
        "outputId": "26940ee0-fc57-4d29-b05c-f3fb81899e02"
      },
      "outputs": [
        {
          "output_type": "execute_result",
          "data": {
            "text/plain": [
              "<matplotlib.image.AxesImage at 0x7ff1bf1d1b50>"
            ]
          },
          "metadata": {},
          "execution_count": 10
        },
        {
          "output_type": "display_data",
          "data": {
            "text/plain": [
              "<Figure size 432x288 with 1 Axes>"
            ],
            "image/png": "[encoded data removed]"
          },
          "metadata": {
            "needs_background": "light"
          }
        }
      ],
      "source": [
        "plt.imshow(mask_patches[1,2,3,:,:,20])"
      ]
    },
    {
      "cell_type": "code",
      "execution_count": null,
      "metadata": {
        "colab": {
          "base_uri": "https://localhost:8080/",
          "height": 302
        },
        "id": "t3VEMlUCYeTh",
        "outputId": "1a4b18d8-5f31-4c05-c592-012d76782c66"
      },
      "outputs": [
        {
          "output_type": "stream",
          "name": "stdout",
          "text": [
            "(4, 4, 4, 64, 64, 64)\n"
          ]
        },
        {
          "output_type": "execute_result",
          "data": {
            "text/plain": [
              "<matplotlib.image.AxesImage at 0x7ff1becbe910>"
            ]
          },
          "metadata": {},
          "execution_count": 11
        },
        {
          "output_type": "display_data",
          "data": {
            "text/plain": [
              "<Figure size 432x288 with 1 Axes>"
            ],
            "image/png": "[encoded data removed]"
          },
          "metadata": {
            "needs_background": "light"
          }
        }
      ],
      "source": [
        "print(img_patches.shape)\n",
        "plt.imshow(img_patches[1,2,3,:,:,20])"
      ]
    },
    {
      "cell_type": "code",
      "execution_count": null,
      "metadata": {
        "colab": {
          "base_uri": "https://localhost:8080/"
        },
        "id": "QIWrlhLWY5N_",
        "outputId": "dc3b8c44-a286-4449-cb20-95b471267960"
      },
      "outputs": [
        {
          "output_type": "stream",
          "name": "stdout",
          "text": [
            "(64, 64, 64, 64)\n"
          ]
        }
      ],
      "source": [
        "input_img = np.reshape(img_patches, (-1, img_patches.shape[3], img_patches.shape[4], img_patches.shape[5]))\n",
        "input_mask = np.reshape(mask_patches, (-1, mask_patches.shape[3], mask_patches.shape[4], mask_patches.shape[5]))\n",
        "\n",
        "print(input_mask.shape)  # n_patches, x, y, z"
      ]
    },
    {
      "cell_type": "code",
      "execution_count": null,
      "metadata": {
        "id": "VG3uMsJaZoQA"
      },
      "outputs": [],
      "source": [
        "n_classes=4"
      ]
    },
    {
      "cell_type": "code",
      "execution_count": null,
      "metadata": {
        "colab": {
          "base_uri": "https://localhost:8080/"
        },
        "id": "xJZuZHXSZr2a",
        "outputId": "0d83e45d-a87b-4115-a552-652b10ae9a6f"
      },
      "outputs": [
        {
          "output_type": "stream",
          "name": "stdout",
          "text": [
            "(64, 64, 64, 64, 3) (64, 64, 64, 64, 1)\n"
          ]
        }
      ],
      "source": [
        "train_img = np.stack((input_img,)*3, axis=-1)\n",
        "train_mask = np.expand_dims(input_mask, axis=4)\n",
        "print(train_img.shape,train_mask.shape)"
      ]
    },
    {
      "cell_type": "code",
      "execution_count": null,
      "metadata": {
        "id": "n0vmMtyzaWd7"
      },
      "outputs": [],
      "source": [
        "train_mask_cat=to_categorical(train_mask,num_classes=n_classes)\n",
        "X_train,X_test,y_train,y_test=train_test_split(train_img,train_mask_cat,test_size=0.1)"
      ]
    },
    {
      "cell_type": "code",
      "execution_count": null,
      "metadata": {
        "id": "B3haC6HScHYM"
      },
      "outputs": [],
      "source": [
        "def dice_coefficient(y_true, y_pred):\n",
        "    smoothing_factor = 1\n",
        "    flat_y_true = K.flatten(y_true)\n",
        "    flat_y_pred = K.flatten(y_pred)\n",
        "    return (2. * K.sum(flat_y_true * flat_y_pred) + smoothing_factor) / (K.sum(flat_y_true) + K.sum(flat_y_pred) + smoothing_factor)\n",
        "\n",
        "def dice_coefficient_loss(y_true, y_pred):\n",
        "    return 1 - dice_coefficient(y_true, y_pred)"
      ]
    },
    {
      "cell_type": "code",
      "execution_count": null,
      "metadata": {
        "id": "5XNHY055eC5P"
      },
      "outputs": [],
      "source": [
        "#Define parameters for our model.\n",
        "\n",
        "encoder_weights = 'imagenet'\n",
        "BACKBONE = 'vgg16'  #Try vgg16, efficientnetb7, inceptionv3, resnet50\n",
        "activation = 'softmax'\n",
        "patch_size = 64\n",
        "n_classes = 4\n",
        "channels=3\n",
        "LR=1e-4\n",
        "optim = keras.optimizers.Adam(LR)\n",
        "\n",
        "\n",
        "\n",
        "# Segmentation models losses can be combined together by '+' and scaled by integer or float factor\n",
        "# set class weights for dice_loss (car: 1.; pedestrian: 2.; background: 0.5;)\n",
        "dice_loss = sm.losses.DiceLoss(class_weights=np.array([0.25, 0.25, 0.25, 0.25]))\n",
        "focal_loss = sm.losses.CategoricalFocalLoss()\n",
        "total_loss = dice_loss + (1 * focal_loss)\n",
        "\n",
        "# actulally total_loss can be imported directly from library, above example just show you how to manipulate with losses\n",
        "# total_loss = sm.losses.binary_focal_dice_loss # or sm.losses.categorical_focal_dice_loss\n",
        "\n",
        "metrics = [sm.metrics.IOUScore(threshold=0.5), sm.metrics.FScore(threshold=0.5)]"
      ]
    },
    {
      "cell_type": "code",
      "execution_count": null,
      "metadata": {
        "id": "PVvVVnR7eqH2"
      },
      "outputs": [],
      "source": [
        "preprocess_input = sm.get_preprocessing(BACKBONE)"
      ]
    },
    {
      "cell_type": "code",
      "execution_count": null,
      "metadata": {
        "id": "dWfBZoBffLpc"
      },
      "outputs": [],
      "source": [
        "#Preprocess input data to avoid garbage resutls\n",
        "# and potentially model that does not converge.\n",
        "X_train_prep = preprocess_input(X_train)\n",
        "X_test_prep = preprocess_input(X_test)"
      ]
    },
    {
      "cell_type": "code",
      "execution_count": null,
      "metadata": {
        "id": "1iG7jMkDfOMF"
      },
      "outputs": [],
      "source": [
        "#Define the model. Here we use Unet but we can also use other model architectures from the library.\n",
        "model = sm.Unet(BACKBONE, classes=n_classes,\n",
        "                input_shape=(patch_size, patch_size, patch_size, channels),\n",
        "                encoder_weights=encoder_weights,\n",
        "                activation=activation)\n",
        "\n",
        "model.compile(optimizer = optim, loss=total_loss, metrics=metrics)\n",
        "print(model.summary())"
      ]
    },
    {
      "cell_type": "code",
      "execution_count": null,
      "metadata": {
        "colab": {
          "base_uri": "https://localhost:8080/"
        },
        "id": "wH3r7IpgfsOp",
        "outputId": "4c280662-eb17-4159-9a96-ec28a909e5f8"
      },
      "outputs": [
        {
          "output_type": "stream",
          "name": "stdout",
          "text": [
            "Epoch 1/25\n",
            "8/8 [==============================] - 46s 5s/step - loss: 0.9893 - iou_score: 0.1082 - f1-score: 0.1701 - val_loss: 1.0686 - val_iou_score: 0.0898 - val_f1-score: 0.1613\n",
            "Epoch 2/25\n",
            "8/8 [==============================] - 40s 5s/step - loss: 0.9526 - iou_score: 0.2360 - f1-score: 0.3339 - val_loss: 1.0261 - val_iou_score: 0.1525 - val_f1-score: 0.2565\n",
            "Epoch 3/25\n",
            "8/8 [==============================] - 41s 5s/step - loss: 0.9351 - iou_score: 0.3160 - f1-score: 0.4231 - val_loss: 0.9900 - val_iou_score: 0.1904 - val_f1-score: 0.3006\n",
            "Epoch 4/25\n",
            "8/8 [==============================] - 40s 5s/step - loss: 0.9207 - iou_score: 0.4109 - f1-score: 0.5429 - val_loss: 0.9842 - val_iou_score: 0.2105 - val_f1-score: 0.3273\n",
            "Epoch 5/25\n",
            "8/8 [==============================] - 40s 5s/step - loss: 0.9069 - iou_score: 0.4883 - f1-score: 0.6264 - val_loss: 0.9599 - val_iou_score: 0.2687 - val_f1-score: 0.4084\n",
            "Epoch 6/25\n",
            "8/8 [==============================] - 42s 5s/step - loss: 0.8955 - iou_score: 0.5605 - f1-score: 0.6958 - val_loss: 0.9485 - val_iou_score: 0.3116 - val_f1-score: 0.4626\n",
            "Epoch 7/25\n",
            "8/8 [==============================] - 40s 5s/step - loss: 0.8864 - iou_score: 0.5632 - f1-score: 0.6927 - val_loss: 0.9385 - val_iou_score: 0.3555 - val_f1-score: 0.5092\n",
            "Epoch 8/25\n",
            "8/8 [==============================] - 40s 5s/step - loss: 0.8785 - iou_score: 0.5902 - f1-score: 0.7176 - val_loss: 0.9337 - val_iou_score: 0.3843 - val_f1-score: 0.5369\n",
            "Epoch 9/25\n",
            "8/8 [==============================] - 41s 5s/step - loss: 0.8710 - iou_score: 0.6048 - f1-score: 0.7292 - val_loss: 0.9184 - val_iou_score: 0.4650 - val_f1-score: 0.6093\n",
            "Epoch 10/25\n",
            "8/8 [==============================] - 41s 5s/step - loss: 0.8623 - iou_score: 0.6317 - f1-score: 0.7531 - val_loss: 0.9152 - val_iou_score: 0.4941 - val_f1-score: 0.6344\n",
            "Epoch 11/25\n",
            "8/8 [==============================] - 40s 5s/step - loss: 0.8579 - iou_score: 0.6373 - f1-score: 0.7558 - val_loss: 0.9152 - val_iou_score: 0.4859 - val_f1-score: 0.6257\n",
            "Epoch 12/25\n",
            "8/8 [==============================] - 40s 5s/step - loss: 0.8547 - iou_score: 0.6498 - f1-score: 0.7691 - val_loss: 0.9079 - val_iou_score: 0.5263 - val_f1-score: 0.6568\n",
            "Epoch 13/25\n",
            "8/8 [==============================] - 40s 5s/step - loss: 0.8496 - iou_score: 0.6426 - f1-score: 0.7575 - val_loss: 0.9061 - val_iou_score: 0.5140 - val_f1-score: 0.6496\n",
            "Epoch 14/25\n",
            "8/8 [==============================] - 40s 5s/step - loss: 0.8438 - iou_score: 0.6425 - f1-score: 0.7549 - val_loss: 0.8932 - val_iou_score: 0.5635 - val_f1-score: 0.6856\n",
            "Epoch 15/25\n",
            "8/8 [==============================] - 40s 5s/step - loss: 0.8424 - iou_score: 0.6681 - f1-score: 0.7798 - val_loss: 0.8926 - val_iou_score: 0.5552 - val_f1-score: 0.6807\n",
            "Epoch 16/25\n",
            "8/8 [==============================] - 40s 5s/step - loss: 0.8388 - iou_score: 0.6692 - f1-score: 0.7784 - val_loss: 0.8886 - val_iou_score: 0.5517 - val_f1-score: 0.6751\n",
            "Epoch 17/25\n",
            "8/8 [==============================] - 40s 5s/step - loss: 0.8379 - iou_score: 0.6674 - f1-score: 0.7787 - val_loss: 0.8874 - val_iou_score: 0.5513 - val_f1-score: 0.6779\n",
            "Epoch 18/25\n",
            "8/8 [==============================] - 40s 5s/step - loss: 0.8378 - iou_score: 0.6777 - f1-score: 0.7886 - val_loss: 0.8797 - val_iou_score: 0.5756 - val_f1-score: 0.6950\n",
            "Epoch 19/25\n",
            "8/8 [==============================] - 40s 5s/step - loss: 0.8259 - iou_score: 0.7091 - f1-score: 0.8151 - val_loss: 0.8760 - val_iou_score: 0.5779 - val_f1-score: 0.6942\n",
            "Epoch 20/25\n",
            "8/8 [==============================] - 41s 5s/step - loss: 0.8238 - iou_score: 0.7032 - f1-score: 0.8079 - val_loss: 0.8860 - val_iou_score: 0.5206 - val_f1-score: 0.6474\n",
            "Epoch 21/25\n",
            "8/8 [==============================] - 40s 5s/step - loss: 0.8299 - iou_score: 0.6904 - f1-score: 0.7999 - val_loss: 0.8881 - val_iou_score: 0.4898 - val_f1-score: 0.6221\n",
            "Epoch 22/25\n",
            "8/8 [==============================] - 41s 5s/step - loss: 0.8274 - iou_score: 0.6707 - f1-score: 0.7770 - val_loss: 0.8653 - val_iou_score: 0.5865 - val_f1-score: 0.7042\n",
            "Epoch 23/25\n",
            "8/8 [==============================] - 40s 5s/step - loss: 0.8264 - iou_score: 0.6856 - f1-score: 0.7936 - val_loss: 0.8700 - val_iou_score: 0.5687 - val_f1-score: 0.6792\n",
            "Epoch 24/25\n",
            "8/8 [==============================] - 41s 5s/step - loss: 0.8210 - iou_score: 0.6835 - f1-score: 0.7866 - val_loss: 0.8662 - val_iou_score: 0.5856 - val_f1-score: 0.7045\n",
            "Epoch 25/25\n",
            "8/8 [==============================] - 40s 5s/step - loss: 0.8212 - iou_score: 0.7029 - f1-score: 0.8103 - val_loss: 0.8641 - val_iou_score: 0.5659 - val_f1-score: 0.6818\n"
          ]
        }
      ],
      "source": [
        "#Fit the model\n",
        "history=model.fit(X_train_prep,\n",
        "          y_train,\n",
        "          batch_size=8,\n",
        "          epochs=25,\n",
        "          verbose=1,\n",
        "          validation_data=(X_test_prep, y_test))"
      ]
    },
    {
      "cell_type": "code",
      "execution_count": null,
      "metadata": {
        "id": "CjPkwW5sfvH1"
      },
      "outputs": [],
      "source": [
        "#Save model for future use\n",
        "model.save('/content/drive/MyDrive/sandstone_data_for_ML/data_for_3D_Unet/3D_model_vgg16_100epochs.h5')"
      ]
    },
    {
      "cell_type": "code",
      "source": [
        "###\n",
        "#plot the training and validation IoU and loss at each epoch\n",
        "loss = history.history['loss']\n",
        "val_loss = history.history['val_loss']\n",
        "epochs = range(1, len(loss) + 1)\n",
        "plt.plot(epochs, loss, 'y', label='Training loss')\n",
        "plt.plot(epochs, val_loss, 'r', label='Validation loss')\n",
        "plt.title('Training and validation loss')\n",
        "plt.xlabel('Epochs')\n",
        "plt.ylabel('Loss')\n",
        "plt.legend()\n",
        "plt.show()\n",
        "\n",
        "acc = history.history['iou_score']\n",
        "val_acc = history.history['val_iou_score']\n",
        "\n",
        "plt.plot(epochs, acc, 'y', label='Training IOU')\n",
        "plt.plot(epochs, val_acc, 'r', label='Validation IOU')\n",
        "plt.title('Training and validation IOU')\n",
        "plt.xlabel('Epochs')\n",
        "plt.ylabel('IOU')\n",
        "plt.legend()\n",
        "plt.show()"
      ],
      "metadata": {
        "colab": {
          "base_uri": "https://localhost:8080/",
          "height": 573
        },
        "id": "Nu5H4y_2eB-U",
        "outputId": "4bc61b5c-56aa-4ee8-924c-1cc0b234046d"
      },
      "execution_count": null,
      "outputs": [
        {
          "output_type": "display_data",
          "data": {
            "text/plain": [
              "<Figure size 432x288 with 1 Axes>"
            ],
            "image/png": "[encoded data removed]"
          },
          "metadata": {
            "needs_background": "light"
          }
        },
        {
          "output_type": "display_data",
          "data": {
            "text/plain": [
              "<Figure size 432x288 with 1 Axes>"
            ],
            "image/png": "[encoded data removed]"
          },
          "metadata": {
            "needs_background": "light"
          }
        }
      ]
    },
    {
      "cell_type": "code",
      "source": [
        "#Load the pretrained model for testing and predictions.\n",
        "from keras.models import load_model\n",
        "my_model = load_model('/content/drive/MyDrive/sandstone_data_for_ML/data_for_3D_Unet/3D_model_vgg16_100epochs.h5',compile=False)\n",
        "#If you load a different model do not forget to preprocess accordingly"
      ],
      "metadata": {
        "id": "9_lZVNEYgegk"
      },
      "execution_count": null,
      "outputs": []
    },
    {
      "cell_type": "code",
      "source": [
        "#Predict on the test data\n",
        "y_pred=my_model.predict(X_test)\n",
        "y_pred_argmax=np.argmax(y_pred, axis=4)\n",
        "y_test_argmax = np.argmax(y_test, axis=4)"
      ],
      "metadata": {
        "id": "gOi5OPJNlCwK"
      },
      "execution_count": null,
      "outputs": []
    },
    {
      "cell_type": "code",
      "source": [
        "print(y_pred_argmax.shape)\n",
        "print(y_test_argmax.shape)\n",
        "print(np.unique(y_pred_argmax))"
      ],
      "metadata": {
        "colab": {
          "base_uri": "https://localhost:8080/"
        },
        "id": "GqjFGZivlF6y",
        "outputId": "2b16643f-9c72-4c3a-b37f-a3e33dd7e7aa"
      },
      "execution_count": null,
      "outputs": [
        {
          "output_type": "stream",
          "name": "stdout",
          "text": [
            "(7, 64, 64, 64)\n",
            "(7, 64, 64, 64)\n",
            "[0 1 2 3]\n"
          ]
        }
      ]
    },
    {
      "cell_type": "code",
      "source": [
        "import random\n",
        "test_img_number = random.randint(0, len(X_test))\n",
        "test_img = X_test[test_img_number]\n",
        "ground_truth=y_test[test_img_number]\n",
        "\n",
        "test_img_input=np.expand_dims(test_img, 0)\n",
        "test_img_input1 = preprocess_input(test_img_input)\n",
        "\n",
        "test_pred1 = my_model.predict(test_img_input1)\n",
        "test_prediction1 = np.argmax(test_pred1, axis=4)[0,:,:,:]\n",
        "print(test_prediction1.shape)"
      ],
      "metadata": {
        "colab": {
          "base_uri": "https://localhost:8080/"
        },
        "id": "S_mU5L5ClaoV",
        "outputId": "32dd2949-83c0-4286-90c8-42e672846a59"
      },
      "execution_count": null,
      "outputs": [
        {
          "output_type": "stream",
          "name": "stdout",
          "text": [
            "(64, 64, 64)\n"
          ]
        }
      ]
    },
    {
      "cell_type": "code",
      "source": [
        "ground_truth_argmax = np.argmax(ground_truth, axis=3)\n",
        "print(test_img.shape)"
      ],
      "metadata": {
        "colab": {
          "base_uri": "https://localhost:8080/"
        },
        "id": "h2gvwL0ilmgZ",
        "outputId": "9645be12-e1b0-4d88-dcde-4261e0ab8a62"
      },
      "execution_count": null,
      "outputs": [
        {
          "output_type": "stream",
          "name": "stdout",
          "text": [
            "(64, 64, 64, 3)\n"
          ]
        }
      ]
    },
    {
      "cell_type": "code",
      "source": [
        "#Plot individual slices from test predictions for verification\n",
        "slice = 14\n",
        "plt.figure(figsize=(12, 8))\n",
        "plt.subplot(231)\n",
        "plt.title('Testing Image')\n",
        "plt.imshow(test_img[slice,:,:,0], cmap='gray')\n",
        "plt.subplot(232)\n",
        "plt.title('Testing Label')\n",
        "plt.imshow(ground_truth_argmax[slice,:,:])\n",
        "plt.subplot(233)\n",
        "plt.title('Prediction on test image')\n",
        "plt.imshow(test_prediction1[slice,:,:])\n",
        "plt.show()"
      ],
      "metadata": {
        "colab": {
          "base_uri": "https://localhost:8080/",
          "height": 261
        },
        "id": "Uu-875Mzlp_3",
        "outputId": "2ae2939b-8e7b-472e-ad4b-7cc391647aee"
      },
      "execution_count": null,
      "outputs": [
        {
          "output_type": "display_data",
          "data": {
            "text/plain": [
              "<Figure size 864x576 with 3 Axes>"
            ],
            "image/png": "[encoded data removed]"
          },
          "metadata": {
            "needs_background": "light"
          }
        }
      ]
    },
    {
      "cell_type": "code",
      "source": [
        "#Break the large image (volume) into patches of same size as the training images (patches)\n",
        "large_image = io.imread('/content/drive/MyDrive/sandstone_data_for_ML/data_for_3D_Unet/448_images_512x512.tif')\n",
        "patches = patchify(large_image, (64, 64, 64), step=64)  #Step=256 for 256 patches means no overlap\n",
        "print(large_image.shape)\n",
        "print(patches.shape)"
      ],
      "metadata": {
        "colab": {
          "base_uri": "https://localhost:8080/"
        },
        "id": "j8zRJFoXlqVf",
        "outputId": "022b8715-5c87-4e1c-a4f7-7ab18c0dd910"
      },
      "execution_count": null,
      "outputs": [
        {
          "output_type": "stream",
          "name": "stdout",
          "text": [
            "(448, 512, 512)\n",
            "(7, 8, 8, 64, 64, 64)\n"
          ]
        }
      ]
    },
    {
      "cell_type": "code",
      "source": [
        "# Predict each 3D patch\n",
        "predicted_patches = []\n",
        "for i in range(patches.shape[0]):\n",
        "  for j in range(patches.shape[1]):\n",
        "    for k in range(patches.shape[2]):\n",
        "      #print(i,j,k)\n",
        "      single_patch = patches[i,j,k, :,:,:]\n",
        "      single_patch_3ch = np.stack((single_patch,)*3, axis=-1)\n",
        "      single_patch_3ch_input = preprocess_input(np.expand_dims(single_patch_3ch, axis=0))\n",
        "      single_patch_prediction = my_model.predict(single_patch_3ch_input)\n",
        "      single_patch_prediction_argmax = np.argmax(single_patch_prediction, axis=4)[0,:,:,:]\n",
        "      predicted_patches.append(single_patch_prediction_argmax)\n",
        "\n"
      ],
      "metadata": {
        "id": "36MuZUSIlxku"
      },
      "execution_count": null,
      "outputs": []
    },
    {
      "cell_type": "code",
      "source": [
        "#Convert list to numpy array\n",
        "predicted_patches = np.array(predicted_patches)\n",
        "print(predicted_patches.shape)"
      ],
      "metadata": {
        "colab": {
          "base_uri": "https://localhost:8080/"
        },
        "id": "EhBtxIXWmHau",
        "outputId": "e9842daf-773c-45cc-ecf3-0e634d27f82f"
      },
      "execution_count": null,
      "outputs": [
        {
          "output_type": "stream",
          "name": "stdout",
          "text": [
            "(448, 64, 64, 64)\n"
          ]
        }
      ]
    },
    {
      "cell_type": "code",
      "source": [
        "#Reshape to the shape we had after patchifying\n",
        "predicted_patches_reshaped = np.reshape(predicted_patches,\n",
        "                                        (patches.shape[0], patches.shape[1], patches.shape[2],\n",
        "                                         patches.shape[3], patches.shape[4], patches.shape[5]) )\n",
        "print(predicted_patches_reshaped.shape)"
      ],
      "metadata": {
        "colab": {
          "base_uri": "https://localhost:8080/"
        },
        "id": "rKT7LYBJnz2z",
        "outputId": "a8c820cd-2d26-47c2-e0ea-03a6322e0d0a"
      },
      "execution_count": null,
      "outputs": [
        {
          "output_type": "stream",
          "name": "stdout",
          "text": [
            "(7, 8, 8, 64, 64, 64)\n"
          ]
        }
      ]
    },
    {
      "cell_type": "code",
      "source": [
        "#Repach individual patches into the orginal volume shape\n",
        "reconstructed_image = unpatchify(predicted_patches_reshaped, large_image.shape)\n",
        "print(reconstructed_image.shape)"
      ],
      "metadata": {
        "colab": {
          "base_uri": "https://localhost:8080/"
        },
        "id": "dO5UGGdAn3wq",
        "outputId": "2183d74e-1815-402b-92a8-daebf488c871"
      },
      "execution_count": null,
      "outputs": [
        {
          "output_type": "stream",
          "name": "stdout",
          "text": [
            "(448, 512, 512)\n"
          ]
        }
      ]
    },
    {
      "cell_type": "code",
      "source": [
        "print(reconstructed_image.dtype)"
      ],
      "metadata": {
        "colab": {
          "base_uri": "https://localhost:8080/"
        },
        "id": "nIO14eezn53F",
        "outputId": "3b9526f3-e825-40e8-dc4a-8769362d3eb4"
      },
      "execution_count": null,
      "outputs": [
        {
          "output_type": "stream",
          "name": "stdout",
          "text": [
            "int64\n"
          ]
        }
      ]
    },
    {
      "cell_type": "code",
      "source": [
        "#Convert to uint8 so we can open image in most image viewing software packages\n",
        "reconstructed_image=reconstructed_image.astype(np.uint8)\n",
        "print(reconstructed_image.dtype)"
      ],
      "metadata": {
        "colab": {
          "base_uri": "https://localhost:8080/"
        },
        "id": "b1WxgAf-n7fb",
        "outputId": "d51f1033-5f56-4bf4-c8e1-58961a3fd4a2"
      },
      "execution_count": null,
      "outputs": [
        {
          "output_type": "stream",
          "name": "stdout",
          "text": [
            "uint8\n"
          ]
        }
      ]
    },
    {
      "cell_type": "code",
      "source": [
        "#Seperate each channel/segment to be combined as multiple channels.\n",
        "num_segments=4\n",
        "segm0 = (reconstructed_image == 0)\n",
        "segm1 = (reconstructed_image == 1)\n",
        "segm2 = (reconstructed_image == 2)\n",
        "segm3 = (reconstructed_image == 3)\n",
        "\n",
        "final = np.empty((reconstructed_image.shape[0], reconstructed_image.shape[1], reconstructed_image.shape[2], num_segments))\n",
        "final[:,:,:,0] = segm0\n",
        "final[:,:,:,1] = segm1\n",
        "final[:,:,:,2] = segm2\n",
        "final[:,:,:,3] = segm3"
      ],
      "metadata": {
        "id": "p2zXpH7En9Z5"
      },
      "execution_count": null,
      "outputs": []
    },
    {
      "cell_type": "code",
      "source": [
        "#Use APEER OMETIFF library to read and write multidimensional images\n",
        "!pip install apeer-ometiff-library"
      ],
      "metadata": {
        "colab": {
          "base_uri": "https://localhost:8080/"
        },
        "id": "b_xeyYwjoCUL",
        "outputId": "2572ad8d-2992-4a04-b792-115b388c5b99"
      },
      "execution_count": null,
      "outputs": [
        {
          "output_type": "stream",
          "name": "stdout",
          "text": [
            "Collecting apeer-ometiff-library\n",
            "  Downloading apeer_ometiff_library-1.8.2-py3-none-any.whl (17 kB)\n",
            "Requirement already satisfied: numpy in /usr/local/lib/python3.7/dist-packages (from apeer-ometiff-library) (1.21.5)\n",
            "Requirement already satisfied: tifffile in /usr/local/lib/python3.7/dist-packages (from apeer-ometiff-library) (2021.11.2)\n",
            "Installing collected packages: apeer-ometiff-library\n",
            "Successfully installed apeer-ometiff-library-1.8.2\n"
          ]
        }
      ]
    },
    {
      "cell_type": "code",
      "source": [
        "from apeer_ometiff_library import io"
      ],
      "metadata": {
        "id": "-KpS69XroFJs"
      },
      "execution_count": null,
      "outputs": []
    },
    {
      "cell_type": "code",
      "source": [
        "# Expand image array to 5D of order (T, Z, C, X, Y)\n",
        "# This is the convention for OMETIFF format as written by APEER library\n",
        "final = np.expand_dims(final, axis=0)\n",
        "final=np.swapaxes(final, 2, 4)\n",
        "\n",
        "final = final.astype(np.int8)"
      ],
      "metadata": {
        "id": "EGOUlhqcoHRL"
      },
      "execution_count": null,
      "outputs": []
    },
    {
      "cell_type": "code",
      "source": [
        "print(\"Shape of the segmented volume is: T, Z, C, X, Y \", final.shape)\n",
        "print(final.dtype)"
      ],
      "metadata": {
        "colab": {
          "base_uri": "https://localhost:8080/"
        },
        "id": "LfaxmC0MoI7R",
        "outputId": "18146db6-3a54-4b16-cf25-06aae15f575a"
      },
      "execution_count": null,
      "outputs": [
        {
          "output_type": "stream",
          "name": "stdout",
          "text": [
            "Shape of the segmented volume is: T, Z, C, X, Y  (1, 448, 4, 512, 512)\n",
            "int8\n"
          ]
        }
      ]
    },
    {
      "cell_type": "code",
      "source": [
        "# Write dataset as multi-dimensional OMETIFF *image*\n",
        "io.write_ometiff(\"/content/drive/MyDrive/sandstone_data_for_ML/partial_labels_for_traditional_ML/sandstone_train_images.tif\", final)"
      ],
      "metadata": {
        "id": "LqlRgrv1oKVU"
      },
      "execution_count": null,
      "outputs": []
    },
    {
      "cell_type": "code",
      "source": [],
      "metadata": {
        "id": "bStG-QyhpCiN"
      },
      "execution_count": null,
      "outputs": []
    }
  ],
  "metadata": {
    "accelerator": "GPU",
    "colab": {
      "provenance": []
    },
    "kernelspec": {
      "display_name": "Python 3",
      "name": "python3"
    },
    "language_info": {
      "name": "python"
    }
  },
  "nbformat": 4,
  "nbformat_minor": 0
}